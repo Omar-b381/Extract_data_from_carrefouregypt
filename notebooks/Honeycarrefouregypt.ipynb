{
 "cells": [
  {
   "cell_type": "code",
   "execution_count": 4,
   "id": "ff4a920d-92f3-4de7-9391-a376aed6c7a8",
   "metadata": {},
   "outputs": [],
   "source": [
    "from selenium import webdriver\n",
    "from selenium.webdriver.common.keys import Keys\n",
    "from selenium.webdriver.common.by import By \n",
    "from selenium.webdriver.support.ui import WebDriverWait\n",
    "from selenium.webdriver.support import expected_conditions as EC\n",
    "\n",
    "\n",
    "\n",
    "driver = webdriver.Firefox()\n",
    "driver.get(\"https://www.carrefouregypt.com/mafegy/ar/c/FEGY1700201?currentPage=2\")"
   ]
  },
  {
   "cell_type": "code",
   "execution_count": 5,
   "id": "374d6c4c-3c91-476a-9d8d-a449273bfc22",
   "metadata": {},
   "outputs": [],
   "source": [
    "\n",
    "\n",
    "\n",
    "\n",
    "product = []\n",
    "price = []\n",
    "link = []\n",
    "image  = []\n",
    "elements = driver.find_elements(By.CSS_SELECTOR, 'a[data-testid=\"product_name\"]')\n",
    "for e in elements:\n",
    "    product.append(e.text.strip())\n",
    "\n",
    "major_prices = driver.find_elements(By.CSS_SELECTOR, 'div.css-14zpref')\n",
    "for p in major_prices:\n",
    "    price.append(p.text.strip())\n",
    "\n",
    "product_links = driver.find_elements(By.CSS_SELECTOR, 'a[data-testid=\"product_name\"]')\n",
    "for l in product_links:\n",
    "    link.append(l.get_attribute(\"href\"))\n",
    "    \n",
    "images = driver.find_elements(By.CSS_SELECTOR, 'img[data-testid=\"product_image_main\"]')\n",
    "for i in images:\n",
    "    image.append(i.get_attribute(\"src\"))\n",
    "\n",
    "\n",
    "\n",
    "\n",
    "\n",
    "import pandas as pd\n",
    "df = pd.DataFrame({'product':product,'price':price,'link':link,'image':image})\n",
    "df.head()\n",
    "df.shape\n",
    "\n",
    "\n",
    "\n",
    "df.to_excel('Carfoor_Honey.xlsx',index=False)"
   ]
  },
  {
   "cell_type": "code",
   "execution_count": null,
   "id": "45af9ec0-0cc3-46a9-8e9c-bede030dbdb1",
   "metadata": {},
   "outputs": [],
   "source": []
  }
 ],
 "metadata": {
  "kernelspec": {
   "display_name": "Python 3 (ipykernel)",
   "language": "python",
   "name": "python3"
  },
  "language_info": {
   "codemirror_mode": {
    "name": "ipython",
    "version": 3
   },
   "file_extension": ".py",
   "mimetype": "text/x-python",
   "name": "python",
   "nbconvert_exporter": "python",
   "pygments_lexer": "ipython3",
   "version": "3.13.5"
  }
 },
 "nbformat": 4,
 "nbformat_minor": 5
}
